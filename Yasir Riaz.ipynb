{
  "cells": [
    {
      "cell_type": "markdown",
      "metadata": {
        "id": "w6y74kQIJ9A4"
      },
      "source": [
        "2-1.\n",
        "Simple Message: Store a message in a variable, and then print that\n",
        "message."
      ]
    },
    {
      "cell_type": "code",
      "execution_count": null,
      "metadata": {
        "id": "QLd9BLjoJ9BH",
        "outputId": "32a0d59e-0dc6-40e4-db87-f9c1fee9baa7"
      },
      "outputs": [
        {
          "name": "stdout",
          "output_type": "stream",
          "text": [
            "This is first programe of Python Assignment\n"
          ]
        }
      ],
      "source": [
        "message_Yasir=\"This is first programe of Python Assignment\"\n",
        "print(message_Yasir)"
      ]
    },
    {
      "cell_type": "markdown",
      "metadata": {
        "id": "nNMtv8ebJ9BP"
      },
      "source": [
        "2-2. \n",
        "Simple Messages: Store a message in a variable, and print that message.\n",
        "Then change the value of your variable to a new message, and print the new\n",
        "message."
      ]
    },
    {
      "cell_type": "code",
      "execution_count": null,
      "metadata": {
        "id": "1cat81lyJ9BR",
        "outputId": "3df4bbf2-599b-40f3-8974-038d9ef1f45b"
      },
      "outputs": [
        {
          "name": "stdout",
          "output_type": "stream",
          "text": [
            "This is initial Value of the variable\n",
            "This is updated Value of the variable\n"
          ]
        }
      ],
      "source": [
        "message_value_Yasir=\"This is initial Value of the variable\"\n",
        "print(message_value_Yasir)\n",
        "message_value_Yasir=\"This is updated Value of the variable\"\n",
        "print(message_value_Yasir)"
      ]
    },
    {
      "cell_type": "markdown",
      "metadata": {
        "id": "GiRa56UNJ9BT"
      },
      "source": [
        "2-3. \n",
        "Personal Message: Store a person’s name in a variable, and print a message\n",
        "to that person. Your message should be simple, such as, “Hello Eric,\n",
        "would you like to learn some Python today?”"
      ]
    },
    {
      "cell_type": "code",
      "execution_count": null,
      "metadata": {
        "id": "2RmEJp8HJ9BV",
        "outputId": "ae903c2f-edd9-4ae5-c285-24b3fa6ac424"
      },
      "outputs": [
        {
          "name": "stdout",
          "output_type": "stream",
          "text": [
            "Hello Babar, would you like to learn some Python today?\n"
          ]
        }
      ],
      "source": [
        "name_kashif=\"Babar\"\n",
        "print(\"Hello \"+name_Yasir+\", would you like to learn some Python today?\")"
      ]
    },
    {
      "cell_type": "markdown",
      "metadata": {
        "id": "HQUwAIbqJ9BX"
      },
      "source": [
        "2-4. Name Cases: Store a person’s name in a variable, and then print that person’s\n",
        "name in lowercase, uppercase, and titlecase."
      ]
    },
    {
      "cell_type": "code",
      "execution_count": null,
      "metadata": {
        "id": "AVifRbmxJ9Ba",
        "outputId": "5d4a7b1b-9c92-444e-90bd-9e0742182f2d"
      },
      "outputs": [
        {
          "name": "stdout",
          "output_type": "stream",
          "text": [
            "shahid afridi\n",
            "SHAHID AFRIDI\n",
            "Shahid Afridi\n"
          ]
        }
      ],
      "source": [
        "person_kashif=\"Shahid Afridi\"\n",
        "print(person_kashif.lower())\n",
        "print(person_kashif.upper())\n",
        "print(person_kashif.title())"
      ]
    },
    {
      "cell_type": "markdown",
      "metadata": {
        "id": "X6PZ7rOyJ9Bc"
      },
      "source": [
        "2-5. \n",
        "Famous Quote: Find a quote from a famous person you admire. Print the\n",
        "quote and the name of its author. Your output should look something like the\n",
        "following, including the quotation marks:\n",
        "Albert Einstein once said, “A person who never made a\n",
        "mistake never tried anything new.”"
      ]
    },
    {
      "cell_type": "code",
      "execution_count": null,
      "metadata": {
        "id": "IEay3Af-J9Bf",
        "outputId": "e85c8fd9-07b6-4beb-fa21-d5f249c17d1c"
      },
      "outputs": [
        {
          "name": "stdout",
          "output_type": "stream",
          "text": [
            "Hazrat Muhammad (PBUH) Said, \"Do not, then , follow your own desires lest you keep away from justice\"\n"
          ]
        }
      ],
      "source": [
        "print(\"Hazrat Muhammad (PBUH) Said, \\\"Do not, then , follow your own desires lest you keep away from justice\\\"\")"
      ]
    },
    {
      "cell_type": "markdown",
      "metadata": {
        "id": "ETcfS5GyJ9Bh"
      },
      "source": [
        "2-6. \n",
        "Famous Quote 2: Repeat Exercise 2-5, but this time store the famous person’s\n",
        "name in a variable called famous_person. Then compose your message\n",
        "and store it in a new variable called message. Print your message."
      ]
    },
    {
      "cell_type": "code",
      "execution_count": null,
      "metadata": {
        "id": "nhHvS9y3J9Bj",
        "outputId": "0ae1ae7d-2b35-4670-b582-9fa9f45812c4"
      },
      "outputs": [
        {
          "name": "stdout",
          "output_type": "stream",
          "text": [
            "Hazrat Muhammad (PBUH) Said, \"Do not, then , follow your own desires lest you keep away from justice\"\n"
          ]
        }
      ],
      "source": [
        "famous_person_Yasir=\"Hazrat Muhammad (PBUH)\"\n",
        "message_person_Yasir=\"\\\"Do not, then , follow your own desires lest you keep away from justice\\\"\"\n",
        "print(famous_person_Yasir+\" Said, \"+message_person_Yasir)"
      ]
    },
    {
      "cell_type": "markdown",
      "metadata": {
        "id": "QyDcRkMyJ9Bl"
      },
      "source": [
        "2-7. \n",
        "Stripping Names: Store a person’s name, and include some whitespace\n",
        "characters at the beginning and end of the name. Make sure you use each\n",
        "character combination, \"\\t\" and \"\\n\", at least once.\n",
        "Print the name once, so the whitespace around the name is displayed.\n",
        "Then print the name using each of the three stripping functions, lstrip(),\n",
        "rstrip(), and strip()."
      ]
    },
    {
      "cell_type": "code",
      "execution_count": 1,
      "metadata": {
        "colab": {
          "base_uri": "https://localhost:8080/"
        },
        "id": "M18TVqgnJ9Bn",
        "outputId": "c27b4755-def9-40b3-ee87-2b3987a588b4"
      },
      "outputs": [
        {
          "output_type": "stream",
          "name": "stdout",
          "text": [
            "\tMalik Yasir\n",
            "\n",
            "Malik Yasir\n",
            "\n",
            "\tMalik Yasir\n",
            "Malik Yasir\n"
          ]
        }
      ],
      "source": [
        "striping_Yasir=\"\\tMalik Yasir\\n\"\n",
        "print(striping_Yasir)\n",
        "print(striping_Yasir.lstrip())\n",
        "print(striping_Yasir.rstrip())\n",
        "print(striping_Yasir.strip())"
      ]
    },
    {
      "cell_type": "markdown",
      "metadata": {
        "id": "0PyQc3oVJ9Bo"
      },
      "source": [
        "2-8. \n",
        "Number Eight: Write addition, subtraction, multiplication, and division\n",
        "operations that each result in the number 8. Be sure to enclose your operations\n",
        "in print statements to see the results. You should create four lines that look\n",
        "like this:"
      ]
    },
    {
      "cell_type": "code",
      "execution_count": null,
      "metadata": {
        "id": "1vE3IPyJJ9Bp",
        "outputId": "5ec98dd5-964d-44ca-c7f8-6349669b1d0f"
      },
      "outputs": [
        {
          "name": "stdout",
          "output_type": "stream",
          "text": [
            "8\n",
            "8\n",
            "8\n",
            "8\n"
          ]
        }
      ],
      "source": [
        "print(4+4)\n",
        "print(13-5)\n",
        "print(2*4)\n",
        "print(80//10)"
      ]
    },
    {
      "cell_type": "markdown",
      "metadata": {
        "id": "F2s5ah7jJ9Br"
      },
      "source": [
        "2-9. \n",
        "Favorite Number: Store your favorite number in a variable. Then, using\n",
        "that variable, create a message that reveals your favorite number. Print that\n",
        "message."
      ]
    },
    {
      "cell_type": "code",
      "execution_count": null,
      "metadata": {
        "id": "M--liugGJ9Bs",
        "outputId": "1cddb34c-1b4b-46e8-c224-bca48d3427e0"
      },
      "outputs": [
        {
          "name": "stdout",
          "output_type": "stream",
          "text": [
            " My Favourite No is 23\n"
          ]
        }
      ],
      "source": [
        "fav_Yasir=23\n",
        "print(\" My Favourite No is \"+str(fav_Yasir))"
      ]
    },
    {
      "cell_type": "markdown",
      "metadata": {
        "id": "ekGpIFvVJ9Bt"
      },
      "source": [
        "3-1. \n",
        "Names: Store the names of a few of your friends in a list called names. Print\n",
        "each person’s name by accessing each element in the list, one at a time."
      ]
    },
    {
      "cell_type": "code",
      "execution_count": null,
      "metadata": {
        "id": "cPRtoNAWJ9Bv",
        "outputId": "1399e73b-4673-42cf-acd3-18a29d57b1bc"
      },
      "outputs": [
        {
          "name": "stdout",
          "output_type": "stream",
          "text": [
            "Sabir\n",
            "Shahid\n",
            "Zeeshan\n"
          ]
        }
      ],
      "source": [
        "friends_Yasir=['Sabir','Shahid','Zeeshan']\n",
        "print(friends_Yasir[0])\n",
        "print(friends_Yasir[1])\n",
        "print(friends_Yasir[2])"
      ]
    },
    {
      "cell_type": "markdown",
      "metadata": {
        "id": "kxwCWYeqJ9Bw"
      },
      "source": [
        "3-2. \n",
        "Greetings: Start with the list you used in Exercise 3-1, but instead of just\n",
        "printing each person’s name, print a message to them. The text of each message\n",
        "should be the same, but each message should be personalized with the\n",
        "person’s name."
      ]
    },
    {
      "cell_type": "code",
      "execution_count": null,
      "metadata": {
        "id": "LWVAyPJcJ9By",
        "outputId": "5b1ecea1-3b24-4c2b-866e-cd540b6e889b"
      },
      "outputs": [
        {
          "name": "stdout",
          "output_type": "stream",
          "text": [
            "Sabir You are my good friend\n",
            "Shahid You are my good friend\n",
            "Zeeshan You are my good friend\n"
          ]
        }
      ],
      "source": [
        "print(friends_Yasir[0]+\" You are my good friend\")\n",
        "print(friends_Yasir[1]+\" You are my good friend\")\n",
        "print(friends_Yasir[2]+\" You are my good friend\")"
      ]
    },
    {
      "cell_type": "markdown",
      "metadata": {
        "id": "HmcVyTUZJ9Bz"
      },
      "source": [
        "3-3.\n",
        " Your Own List: Think of your favorite mode of transportation, such as a\n",
        "motorcycle or a car, and make a list that stores several examples. Use your list\n",
        "to print a series of statements about these items, such as “I would like to own a\n",
        "Honda motorcycle.”"
      ]
    },
    {
      "cell_type": "code",
      "execution_count": null,
      "metadata": {
        "id": "qc3AnV_hJ9B0",
        "outputId": "c041416a-2b90-48b0-a744-38d74a658659"
      },
      "outputs": [
        {
          "name": "stdout",
          "output_type": "stream",
          "text": [
            "I goes to school on Honda Prider\n",
            "I goes to college on Suzuki Mehran\n",
            "I goes to universtiy on Honda City\n"
          ]
        }
      ],
      "source": [
        "vehicles_Yasir=['Honda Prider', 'Suzuki Mehran', 'Honda City']\n",
        "print(\"I goes to school on \"+vehicles_Yasir[0])\n",
        "print(\"I goes to college on \"+vehicles_Yasir[1])\n",
        "print(\"I goes to universtiy on \"+vehicles_Yasir[2])"
      ]
    },
    {
      "cell_type": "markdown",
      "metadata": {
        "id": "uH61KQnsJ9B1"
      },
      "source": [
        "3-4. \n",
        "Guest List: If you could invite anyone, living or deceased, to dinner, who\n",
        "would you invite? Make a list that includes at least three people you’d like to\n",
        "invite to dinner. Then use your list to print a message to each person, inviting\n",
        "them to dinner."
      ]
    },
    {
      "cell_type": "code",
      "execution_count": null,
      "metadata": {
        "id": "zoYIrrkkJ9B2",
        "outputId": "4d38f2eb-dd9e-4684-eb72-37b4f95ced5b"
      },
      "outputs": [
        {
          "name": "stdout",
          "output_type": "stream",
          "text": [
            "Dear Sabir you are invited to dinner tonight\n",
            "Dear Shahid you are invited to dinner tonight\n",
            "Dear Zeeshan you are invited to dinner tonight\n",
            "Dear Amir you are invited to dinner tonight\n",
            "Dear Adnan you are invited to dinner tonight\n"
          ]
        }
      ],
      "source": [
        "guests_Yasir=['Sabir','Shahid','Zeeshan','Amir','Adnan']\n",
        "print(\"Dear \"+guests_Yasir[0]+\" you are invited to dinner tonight\")\n",
        "print(\"Dear \"+guests_Yasir[1]+\" you are invited to dinner tonight\")\n",
        "print(\"Dear \"+guests_Yasir[2]+\" you are invited to dinner tonight\")\n",
        "print(\"Dear \"+guests_Yasir[3]+\" you are invited to dinner tonight\")\n",
        "print(\"Dear \"+guests_Yasir[4]+\" you are invited to dinner tonight\")"
      ]
    },
    {
      "cell_type": "markdown",
      "metadata": {
        "id": "wZdfySb1J9B3"
      },
      "source": [
        "3-5. Changing Guest List: You just heard that one of your guests can’t make the\n",
        "dinner, so you need to send out a new set of invitations. You’ll have to think of\n",
        "someone else to invite.\n",
        "• Start with your program from Exercise 3-4. Add a print statement at the\n",
        "end of your program stating the name of the guest who can’t make it.\n",
        "• Modify your list, replacing the name of the guest who can’t make it with\n",
        "the name of the new person you are inviting.\n",
        "• Print a second set of invitation messages, one for each person who is still\n",
        "in your list."
      ]
    },
    {
      "cell_type": "code",
      "execution_count": null,
      "metadata": {
        "id": "7C2RfpWYJ9B3",
        "outputId": "9ff467a4-7c1f-4e5c-9d79-724e6ce819ce"
      },
      "outputs": [
        {
          "name": "stdout",
          "output_type": "stream",
          "text": [
            "Shahid is not able to attend dinner tonight\n",
            "Imran will attend dinner tonight\n",
            "Dear Sabir you are invited to dinner tonight\n",
            "Dear Imran you are invited to dinner tonight\n",
            "Dear Zeeshan you are invited to dinner tonight\n",
            "Dear Amir you are invited to dinner tonight\n",
            "Dear Adnan you are invited to dinner tonight\n"
          ]
        }
      ],
      "source": [
        "print(guests_Yasir[1]+\" is not able to attend dinner tonight\")\n",
        "guests_Yasir[1]=\"Imran\"\n",
        "print(guests_Yasir[1]+\" will attend dinner tonight\")\n",
        "print(\"Dear \"+guests_Yasir[0]+\" you are invited to dinner tonight\")\n",
        "print(\"Dear \"+guests_Yasir[1]+\" you are invited to dinner tonight\")\n",
        "print(\"Dear \"+guests_Yasir[2]+\" you are invited to dinner tonight\")\n",
        "print(\"Dear \"+guests_Yasir[3]+\" you are invited to dinner tonight\")\n",
        "print(\"Dear \"+guests_Yasir[4]+\" you are invited to dinner tonight\")"
      ]
    },
    {
      "cell_type": "markdown",
      "metadata": {
        "id": "3pyVvv5_J9B5"
      },
      "source": [
        "3-6. More Guests: You just found a bigger dinner table, so now more space is\n",
        "available. Think of three more guests to invite to dinner.\n",
        "• Start with your program from Exercise 3-4 or Exercise 3-5. Add a print\n",
        "statement to the end of your program informing people that you found a\n",
        "bigger dinner table.\n",
        "• Use insert() to add one new guest to the beginning of your list.\n",
        "• Use insert() to add one new guest to the middle of your list.\n",
        "• Use append() to add one new guest to the end of your list.\n",
        "• Print a new set of invitation messages, one for each person in your list."
      ]
    },
    {
      "cell_type": "code",
      "execution_count": null,
      "metadata": {
        "id": "Wr2K2MiDJ9B5",
        "outputId": "0453f695-6ea2-4964-875e-1b67506aaecd"
      },
      "outputs": [
        {
          "name": "stdout",
          "output_type": "stream",
          "text": [
            "['Sabir', 'Imran', 'Zeeshan', 'Amir', 'Adnan']\n"
          ]
        }
      ],
      "source": [
        "print(guests_kashif)"
      ]
    },
    {
      "cell_type": "code",
      "execution_count": null,
      "metadata": {
        "id": "18Vn7jwxJ9B6",
        "outputId": "210649d9-f8c4-4541-a61b-fd99abfd0924"
      },
      "outputs": [
        {
          "name": "stdout",
          "output_type": "stream",
          "text": [
            "Dear friends, We found a bigger dinner table. So I am inviting three more friends.\n",
            "Dear Kamran you are invited to dinner tonight\n",
            "Dear Sabir you are invited to dinner tonight\n",
            "Dear Imran you are invited to dinner tonight\n",
            "Dear Zeeshan you are invited to dinner tonight\n",
            "Dear Ahsan you are invited to dinner tonight\n",
            "Dear Amir you are invited to dinner tonight\n",
            "Dear Adnan you are invited to dinner tonight\n",
            "Dear Moeen you are invited to dinner tonight\n"
          ]
        }
      ],
      "source": [
        "print(\"Dear friends, We found a bigger dinner table. So I am inviting three more friends.\")\n",
        "guests_Yasir.insert(0,'Kamran')\n",
        "guests_Yasir.insert(4,'Ahsan')\n",
        "guests_Yasir.append('Moeen')\n",
        "print(\"Dear \"+guests_Yasir[0]+\" you are invited to dinner tonight\")\n",
        "print(\"Dear \"+guests_Yasir[1]+\" you are invited to dinner tonight\")\n",
        "print(\"Dear \"+guests_Yasir[2]+\" you are invited to dinner tonight\")\n",
        "print(\"Dear \"+guests_Yasir[3]+\" you are invited to dinner tonight\")\n",
        "print(\"Dear \"+guests_Yasir[4]+\" you are invited to dinner tonight\")\n",
        "print(\"Dear \"+guests_Yasir[5]+\" you are invited to dinner tonight\")\n",
        "print(\"Dear \"+guests_Yasir[6]+\" you are invited to dinner tonight\")\n",
        "print(\"Dear \"+guests_Yasir[7]+\" you are invited to dinner tonight\")"
      ]
    },
    {
      "cell_type": "markdown",
      "metadata": {
        "id": "TD-k7bgdJ9B7"
      },
      "source": [
        "3-7. Shrinking Guest List: You just found out that your new dinner table won’t\n",
        "arrive in time for the dinner, and you have space for only two guests.\n",
        "• Start with your program from Exercise 3-6. Add a new line that prints a\n",
        "message saying that you can invite only two people for dinner.\n",
        "• Use pop() to remove guests from your list one at a time until only two\n",
        "names remain in your list. Each time you pop a name from your list, print\n",
        "a message to that person letting them know you’re sorry you can’t invite\n",
        "them to dinner.\n",
        "• Print a message to each of the two people still on your list, letting them\n",
        "know they’re still invited.\n",
        "• Use del to remove the last two names from your list, so you have an empty\n",
        "list. Print your list to make sure you actually have an empty list at the end\n",
        "of your program."
      ]
    },
    {
      "cell_type": "code",
      "execution_count": null,
      "metadata": {
        "id": "rFaXQ-rxJ9B8",
        "outputId": "f3ab80ac-3683-41d0-de86-8258ee13122a"
      },
      "outputs": [
        {
          "name": "stdout",
          "output_type": "stream",
          "text": [
            "Sorry Friends, Only two Friends can attend the Dinner\n",
            "Sorry Kamran You can't attend the dinner\n",
            "Sorry Sabir You can't attend the dinner\n",
            "Sorry Imran You can't attend the dinner\n",
            "Sorry Zeeshan You can't attend the dinner\n",
            "Sorry Ahsan You can't attend the dinner\n",
            "Sorry Amir You can't attend the dinner\n",
            "Dear Adnan you can attend the dinner tonight\n",
            "Dear Moeen you can attend the dinner tonight\n",
            "[]\n"
          ]
        }
      ],
      "source": [
        "print(\"Sorry Friends, Only two Friends can attend the Dinner\")\n",
        "guest1_removed=guests_Yasir.pop(0)\n",
        "print(\"Sorry \"+guest1_removed+\" You can't attend the dinner\")\n",
        "guest2_removed=guests_Yasir.pop(0)\n",
        "print(\"Sorry \"+guest2_removed+\" You can't attend the dinner\")\n",
        "guest3_removed=guests_Yasir.pop(0)\n",
        "print(\"Sorry \"+guest3_removed+\" You can't attend the dinner\")\n",
        "guest4_removed=guests_Yasir.pop(0)\n",
        "print(\"Sorry \"+guest4_removed+\" You can't attend the dinner\")\n",
        "guest5_removed=guests_Yasir.pop(0)\n",
        "print(\"Sorry \"+guest5_removed+\" You can't attend the dinner\")\n",
        "guest6_removed=guests_Yasir.pop(0)\n",
        "print(\"Sorry \"+guest6_removed+\" You can't attend the dinner\")\n",
        "print(\"Dear \"+guests_Yasir[0]+\" you can attend the dinner tonight\")\n",
        "print(\"Dear \"+guests_Yasir[1]+\" you can attend the dinner tonight\")\n",
        "del guests_Yasir[0]\n",
        "del guests_Yasir[0]\n",
        "print(guests_Yasir)"
      ]
    },
    {
      "cell_type": "markdown",
      "metadata": {
        "id": "rIBsNFDSJ9B-"
      },
      "source": [
        "3-9. Dinner Guests: Working with one of the programs from Exercises 3-4\n",
        "through 3-7 (page 46), use len() to print a message indicating the number\n",
        "of people you are inviting to dinner."
      ]
    },
    {
      "cell_type": "code",
      "execution_count": null,
      "metadata": {
        "id": "6hJ-vOlOJ9CA",
        "outputId": "c305bbe3-aae8-42c6-89e8-a49b942ab5e1"
      },
      "outputs": [
        {
          "name": "stdout",
          "output_type": "stream",
          "text": [
            "i am inviting 5 Poeple.\n"
          ]
        }
      ],
      "source": [
        "guests_count_kashif=['Sabir','Shahid','Zeeshan','Amir','Adnan']\n",
        "\n",
        "print(\"i am inviting \"+str(len(guests_count_kashif))+\" Poeple.\")"
      ]
    },
    {
      "cell_type": "markdown",
      "metadata": {
        "id": "7p7cZrAHJ9CB"
      },
      "source": [
        "4-1. Pizzas: Think of at least three kinds of your favorite pizza. Store these\n",
        "pizza names in a list, and then use a for loop to print the name of each pizza.\n",
        "• Modify your for loop to print a sentence using the name of the pizza\n",
        "instead of printing just the name of the pizza. For each pizza you should\n",
        "have one line of output containing a simple statement like I like pepperoni\n",
        "pizza.\n",
        "• Add a line at the end of your program, outside the for loop, that states\n",
        "how much you like pizza. The output should consist of three or more lines\n",
        "about the kinds of pizza you like and then an additional sentence, such as\n",
        "I really love pizza!"
      ]
    },
    {
      "cell_type": "code",
      "execution_count": null,
      "metadata": {
        "id": "fhyr6Jd2J9CD",
        "outputId": "f2665d58-208f-4691-a9d6-85376294acf6"
      },
      "outputs": [
        {
          "name": "stdout",
          "output_type": "stream",
          "text": [
            "Chicago Pizza\n",
            "Siclian Pizza\n",
            "Greek Pizza\n",
            "Deep Disha Pizza\n",
            "I like to Eat Chicago Pizza everytime\n",
            "I like to Eat Siclian Pizza everytime\n",
            "I like to Eat Greek Pizza everytime\n",
            "I like to Eat Deep Disha Pizza everytime\n",
            "I love Pizza\n"
          ]
        }
      ],
      "source": [
        "pizza_Yasir=['Chicago Pizza','Siclian Pizza','Greek Pizza','Deep Disha Pizza']\n",
        "for j in range(0,len(pizza_Yasir)):\n",
        "    print(pizza_Yasir[j])\n",
        "for i in range(0,len(pizza_Yasir)):\n",
        "    print(\"I like to Eat \"+pizza_Yasir[i]+\" everytime\")\n",
        "print(\"I love Pizza\")"
      ]
    },
    {
      "cell_type": "markdown",
      "metadata": {
        "id": "pEk5kPOIJ9CE"
      },
      "source": [
        "4-2. Animals: Think of at least three different animals that have a common characteristic.\n",
        "Store the names of these animals in a list, and then use a for loop to\n",
        "print out the name of each animal.\n",
        "• Modify your program to print a statement about each animal, such as\n",
        "A dog would make a great pet.\n",
        "• Add a line at the end of your program stating what these animals have in\n",
        "common. You could print a sentence such as Any of these animals would\n",
        "make a great pet!"
      ]
    },
    {
      "cell_type": "code",
      "execution_count": null,
      "metadata": {
        "id": "OYvtQp8PJ9CF",
        "outputId": "11490584-ed63-490f-8b36-ef69604763b9"
      },
      "outputs": [
        {
          "name": "stdout",
          "output_type": "stream",
          "text": [
            "goat\n",
            "cow\n",
            "buffalow\n",
            "goat is a Halal Pet\n",
            "cow is a Halal Pet\n",
            "buffalow is a Halal Pet\n",
            "All these Animals give Milk\n"
          ]
        }
      ],
      "source": [
        "animals_Yasir=['goat','cow','buffalow']\n",
        "for a in range(0,len(animals_Yasir)):\n",
        "    print(animals_Yasir[a])\n",
        "for b in range(0,len(animals_Yasir)):\n",
        "    print(animals_Yasir[b]+\" is a Halal Pet\")\n",
        "print(\"All these Animals give Milk\")"
      ]
    }
  ],
  "metadata": {
    "kernelspec": {
      "display_name": "Python 3.10.5 64-bit",
      "language": "python",
      "name": "python3"
    },
    "language_info": {
      "codemirror_mode": {
        "name": "ipython",
        "version": 3
      },
      "file_extension": ".py",
      "mimetype": "text/x-python",
      "name": "python",
      "nbconvert_exporter": "python",
      "pygments_lexer": "ipython3",
      "version": "3.10.5"
    },
    "orig_nbformat": 4,
    "vscode": {
      "interpreter": {
        "hash": "afb734500600fd355917ca529030176ea0ca205570884b88f2f6f7d791fd3fbe"
      }
    },
    "colab": {
      "provenance": []
    }
  },
  "nbformat": 4,
  "nbformat_minor": 0
}